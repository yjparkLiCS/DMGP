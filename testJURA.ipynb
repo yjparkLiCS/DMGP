{
 "cells": [
  {
   "cell_type": "code",
   "execution_count": null,
   "metadata": {},
   "outputs": [],
   "source": [
    "import os, sys\n",
    "import numpy as np\n",
    "import tensorflow as tf\n",
    "import matplotlib.pyplot as plt\n",
    "import matplotlib.animation as animation\n",
    "import scipy.io \n",
    "import random\n",
    "from networks.DMGP import*\n",
    "os.environ[\"CUDA_DEVICE_ORDER\"]=\"PCI_BUS_ID\" # see issue #152\n",
    "os.environ[\"CUDA_VISIBLE_DEVICES\"]=\"0\" # Will use only the first and the second GPU devices\n",
    "\n",
    "np.random.seed(0)\n",
    "tf.set_random_seed(0)"
   ]
  },
  {
   "cell_type": "code",
   "execution_count": null,
   "metadata": {
    "collapsed": true
   },
   "outputs": [],
   "source": [
    "f = open('./JURA/jura.txt', 'r')\n",
    "D = []\n",
    "for line in f:\n",
    "    D.append(line.split())\n",
    "D = np.asarray(D).astype(np.float)\n",
    "f.close()\n",
    "\n",
    "Xtrain_raw = D[:,0:2]\n",
    "Ytrain_raw = D[:,4:]\n",
    "\n",
    "Xmean = np.mean(Xtrain_raw, axis=0, keepdims=True)\n",
    "Xstd = np.std(Xtrain_raw, axis=0, keepdims=True)\n",
    "Xtrain = (Xtrain_raw - Xmean) / Xstd\n",
    "\n",
    "Ymean = np.mean(Ytrain_raw, axis=0, keepdims=True)\n",
    "Ystd = np.max(np.std(Ytrain_raw, axis=0, keepdims=True))\n",
    "Ytrain = (Ytrain_raw - Ymean) / Ystd\n",
    "\n",
    "#====================================================================\n",
    "\n",
    "f = open('./JURA/jura_test.txt', 'r')\n",
    "D = []\n",
    "for line in f:\n",
    "    D.append(line.split())\n",
    "D = np.asarray(D).astype(np.float)\n",
    "f.close()\n",
    "\n",
    "Xtest_raw = D[:,0:2]\n",
    "Ytest_raw = D[:,4:]\n",
    "\n",
    "Xtest = (Xtest_raw - Xmean) / Xstd\n",
    "Ytest = (Ytest_raw - Ymean) / Ystd\n",
    "Dout = 7"
   ]
  },
  {
   "cell_type": "code",
   "execution_count": null,
   "metadata": {
    "collapsed": true
   },
   "outputs": [],
   "source": [
    "# Define DMGP parameters\n",
    "N_LAYER = 2 # the number of layers\n",
    "D = [2, Dout, Dout] # dimensions for each layer\n",
    "M = [20, 20] # the number of pseudo-inputs for each layer\n",
    "\n",
    "K = 20 # the number of samples\n",
    "\n",
    "DGP_net = DGP_DVSI(N_LAYER, D, M, K, Mat=True, MCO=True)"
   ]
  },
  {
   "cell_type": "code",
   "execution_count": null,
   "metadata": {
    "scrolled": true
   },
   "outputs": [],
   "source": [
    "elbo_hist, elbo_hist_test = DGP_net.train(Xtrain,Ytrain,Xtest,Ytest,epoch=1000)"
   ]
  },
  {
   "cell_type": "code",
   "execution_count": null,
   "metadata": {},
   "outputs": [],
   "source": [
    "Yest_mean, Yest_var = DGP_net.predict(Xtest, K=1000)"
   ]
  }
 ],
 "metadata": {
  "kernelspec": {
   "display_name": "Python 3",
   "language": "python",
   "name": "python3"
  },
  "language_info": {
   "codemirror_mode": {
    "name": "ipython",
    "version": 3
   },
   "file_extension": ".py",
   "mimetype": "text/x-python",
   "name": "python",
   "nbconvert_exporter": "python",
   "pygments_lexer": "ipython3",
   "version": "3.5.2"
  }
 },
 "nbformat": 4,
 "nbformat_minor": 2
}
