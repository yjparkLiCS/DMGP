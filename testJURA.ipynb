{
 "cells": [
  {
   "cell_type": "code",
   "execution_count": 1,
   "metadata": {},
   "outputs": [
    {
     "name": "stderr",
     "output_type": "stream",
     "text": [
      "/usr/local/lib/python3.5/dist-packages/h5py/__init__.py:34: FutureWarning: Conversion of the second argument of issubdtype from `float` to `np.floating` is deprecated. In future, it will be treated as `np.float64 == np.dtype(float).type`.\n",
      "  from ._conv import register_converters as _register_converters\n"
     ]
    }
   ],
   "source": [
    "import os, sys\n",
    "import numpy as np\n",
    "import tensorflow as tf\n",
    "import matplotlib.pyplot as plt\n",
    "import matplotlib.animation as animation\n",
    "import scipy.io \n",
    "import random\n",
    "from networks.DMGP import*\n",
    "os.environ[\"CUDA_DEVICE_ORDER\"]=\"PCI_BUS_ID\" # see issue #152\n",
    "os.environ[\"CUDA_VISIBLE_DEVICES\"]=\"1\" # Will use only the first and the second GPU devices\n",
    "\n",
    "np.random.seed(0)\n",
    "tf.set_random_seed(0)"
   ]
  },
  {
   "cell_type": "code",
   "execution_count": 2,
   "metadata": {
    "collapsed": true
   },
   "outputs": [],
   "source": [
    "f = open('./JURA/jura.txt', 'r')\n",
    "D = []\n",
    "for line in f:\n",
    "    D.append(line.split())\n",
    "D = np.asarray(D).astype(np.float)\n",
    "f.close()\n",
    "\n",
    "Xtrain_raw = D[:,0:2]\n",
    "Ytrain_raw = D[:,4:]\n",
    "\n",
    "Xmean = np.mean(Xtrain_raw, axis=0, keepdims=True)\n",
    "Xstd = np.std(Xtrain_raw, axis=0, keepdims=True)\n",
    "Xtrain = (Xtrain_raw - Xmean) / Xstd\n",
    "\n",
    "Ymean = np.mean(Ytrain_raw, axis=0, keepdims=True)\n",
    "Ystd = np.max(np.std(Ytrain_raw, axis=0, keepdims=True))\n",
    "Ytrain = (Ytrain_raw - Ymean) / Ystd\n",
    "\n",
    "#====================================================================\n",
    "\n",
    "f = open('./JURA/jura_test.txt', 'r')\n",
    "D = []\n",
    "for line in f:\n",
    "    D.append(line.split())\n",
    "D = np.asarray(D).astype(np.float)\n",
    "f.close()\n",
    "\n",
    "Xtest_raw = D[:,0:2]\n",
    "Ytest_raw = D[:,4:]\n",
    "\n",
    "Xtest = (Xtest_raw - Xmean) / Xstd\n",
    "Ytest = (Ytest_raw - Ymean) / Ystd\n",
    "Dout = 7"
   ]
  },
  {
   "cell_type": "code",
   "execution_count": 3,
   "metadata": {
    "collapsed": true
   },
   "outputs": [],
   "source": [
    "# tosee = [0,4,6]\n",
    "# Ytrain_raw = Ytrain_raw[:,tosee]\n",
    "# Ytest_raw = Ytest_raw[:,tosee]\n",
    "# Ytrain = Ytrain[:,tosee]\n",
    "# Ytest = Ytest[:,tosee]\n",
    "# Ymean = Ymean[:,tosee]\n",
    "# Ystd = Ystd[:,tosee]\n",
    "\n",
    "# print(Ymean.shape, Ystd.shape)\n",
    "# print(Xtrain.shape, Ytrain.shape)\n",
    "# print(Xtest.shape, Ytest.shape)\n",
    "# Dout = len(tosee)"
   ]
  },
  {
   "cell_type": "code",
   "execution_count": 4,
   "metadata": {
    "collapsed": true
   },
   "outputs": [],
   "source": [
    "# Define DMGP parameters\n",
    "N_LAYER = 2 # the number of layers\n",
    "D = [2, Dout, Dout] # dimensions for each layer\n",
    "M = [20, 20] # the number of pseudo-inputs for each layer\n",
    "\n",
    "# N_LAYER = 1 # the number of layers\n",
    "# D = [2, Dout] # dimensions for each layer\n",
    "# M = [40] # the number of pseudo-inputs for each layer\n",
    "\n",
    "K = 20 # the number of samples\n",
    "\n",
    "DGP_net = DGP_DVSI(N_LAYER, D, M, K, Mat=False, MCO=False)"
   ]
  },
  {
   "cell_type": "code",
   "execution_count": 5,
   "metadata": {
    "scrolled": true
   },
   "outputs": [
    {
     "name": "stdout",
     "output_type": "stream",
     "text": [
      "0 20678.004 -20678.004\n",
      "100 2836.6284 -2836.6284\n",
      "200 2013.0016 -2013.0016\n",
      "300 1392.5068 -1392.5068\n",
      "400 963.70245 -963.70245\n",
      "500 637.66724 -637.66724\n",
      "600 449.50308 -449.50308\n",
      "700 365.14294 -365.14294\n",
      "800 311.72736 -311.72736\n",
      "900 313.7426 -313.7426\n",
      "76.83666276931763\n"
     ]
    }
   ],
   "source": [
    "import time\n",
    "t1 = time.time()\n",
    "elbo_hist, elbo_hist_test = DGP_net.train(Xtrain,Ytrain,Xtest,Ytest,epoch=1000)\n",
    "print (time.time() - t1)"
   ]
  },
  {
   "cell_type": "code",
   "execution_count": 6,
   "metadata": {},
   "outputs": [
    {
     "name": "stdout",
     "output_type": "stream",
     "text": [
      "-255.87354\n",
      "1.3192126593917812\n",
      "-168.56188646809488\n"
     ]
    }
   ],
   "source": [
    "Yest_mean, Yest_var = DGP_net.predict(Xtest, K=1000)\n",
    "Yest_ll = -0.5*(Yest_mean - Ytest)**2 / Yest_var - 0.5*np.log(2*np.pi) - 0.5*np.log(Yest_var)\n",
    "\n",
    "print(max(elbo_hist))\n",
    "print(np.mean(np.sqrt(np.sum((Yest_mean - Ytest)**2,axis=1)), axis=0))\n",
    "# print(np.mean(Yest_ll, axis=0))\n",
    "print(np.sum(Yest_ll))\n",
    "#print(np.mean(Yest_var, axis=0))"
   ]
  },
  {
   "cell_type": "code",
   "execution_count": 7,
   "metadata": {},
   "outputs": [
    {
     "ename": "SyntaxError",
     "evalue": "invalid syntax (<ipython-input-7-a295bde1ab88>, line 2)",
     "output_type": "error",
     "traceback": [
      "\u001b[0;36m  File \u001b[0;32m\"<ipython-input-7-a295bde1ab88>\"\u001b[0;36m, line \u001b[0;32m2\u001b[0m\n\u001b[0;31m    [0.01998158 0.07596444 0.23610052 0.63558149 0.16316    0.85245612\u001b[0m\n\u001b[0m                         ^\u001b[0m\n\u001b[0;31mSyntaxError\u001b[0m\u001b[0;31m:\u001b[0m invalid syntax\n"
     ]
    }
   ],
   "source": [
    "# dmgp\n",
    "[0.01998158 0.07596444 0.23610052 0.63558149 0.16316    0.85245612\n",
    " 0.77979153]\n",
    "[ 2.25810577  0.96356146 -0.22476392 -1.18875558  0.14632828 -1.70179153\n",
    " -1.49222733]\n",
    "-123.95428594453783\n",
    "[7.7863497e-04 7.9584047e-03 1.1084138e-01 6.6802812e-01 4.7088277e-02\n",
    " 1.3774719e+00 9.5316470e-01]\n",
    "\n",
    "# mgp\n",
    "[0.01916131 0.07579337 0.24587666 0.56432743 0.16831863 0.77354327\n",
    " 0.75560861]\n",
    "[ 2.25231647  0.92643309 -0.20386651 -1.18084596  0.15570775 -1.77655423\n",
    " -1.49219067]\n",
    "-131.90000686463083\n",
    "[7.93336716e-04 7.63225090e-03 1.17920466e-01 5.26437342e-01\n",
    " 5.04407510e-02 1.01887715e+00 8.25399399e-01]\n",
    "\n",
    "# dgp\n",
    "[0.0195901  0.08121365 0.23071248 0.58180515 0.16842543 0.79107847\n",
    " 0.76241053]\n",
    "[ 1.30964188  0.85058792 -0.17783508 -1.35025023  0.14225919 -1.83247777\n",
    " -1.69566264]\n",
    "-275.37367176453097\n",
    "[0.01095944 0.0148313  0.10183809 0.47026053 0.04551153 0.9540388\n",
    " 0.72243536]\n",
    "\n",
    "# gp\n"
   ]
  }
 ],
 "metadata": {
  "kernelspec": {
   "display_name": "Python 3",
   "language": "python",
   "name": "python3"
  },
  "language_info": {
   "codemirror_mode": {
    "name": "ipython",
    "version": 3
   },
   "file_extension": ".py",
   "mimetype": "text/x-python",
   "name": "python",
   "nbconvert_exporter": "python",
   "pygments_lexer": "ipython3",
   "version": "3.5.2"
  }
 },
 "nbformat": 4,
 "nbformat_minor": 2
}
